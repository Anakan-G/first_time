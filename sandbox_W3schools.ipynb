{
 "cells": [
  {
   "cell_type": "code",
   "execution_count": null,
   "metadata": {},
   "outputs": [],
   "source": [
    "# W3Schools     https://www.w3schools.com/python/default.asp"
   ]
  },
  {
   "cell_type": "code",
   "execution_count": null,
   "metadata": {},
   "outputs": [],
   "source": [
    "print(\"Hello World!\")\n",
    "\n",
    "name = \"John\"\n",
    "age = 20\n",
    "print(name, \"is\", age, \"years old\")\n",
    "print(name + \" is \" + str(age) + \" years old\")\n",
    "print(f\"{name} is {age} years old\")\n"
   ]
  },
  {
   "cell_type": "code",
   "execution_count": null,
   "metadata": {},
   "outputs": [],
   "source": [
    "num1 = 16\n",
    "num2 = 6.734\n",
    "str = \"Anakan\"\n",
    "bool = True\n",
    "\n",
    "print(f\"{num1}    {type(num1)}\")\n",
    "print(f\"{num2}    {type(num2)}\")\n",
    "print(f\"{str}    {type(str)}\")\n",
    "print(f\"{bool}    {type(bool)}\")"
   ]
  },
  {
   "cell_type": "code",
   "execution_count": null,
   "metadata": {},
   "outputs": [],
   "source": [
    "Abc = 6\n",
    "abc = 7\n",
    "print(Abc)\n",
    "print(abc)"
   ]
  },
  {
   "cell_type": "code",
   "execution_count": null,
   "metadata": {},
   "outputs": [],
   "source": [
    "xyz = (2,3,4)\n",
    "print(xyz)\n",
    "print(xyz[1])\n",
    "\n",
    "a,b,c = 3,4,5\n",
    "print(a,b,c)\n",
    "\n",
    "a,b,c = (3,4,5)\n",
    "print(a,b,c)\n",
    "\n",
    "x = (6,7,8,9)\n",
    "print(len(x))"
   ]
  },
  {
   "cell_type": "code",
   "execution_count": 5,
   "metadata": {},
   "outputs": [
    {
     "name": "stdout",
     "output_type": "stream",
     "text": [
      "{2, 3, 4, 8, 22}\n",
      "5\n"
     ]
    }
   ],
   "source": [
    "x = set([4, 2, 8, 3, 2])\n",
    "x.add(22)\n",
    "print(x)\n",
    "print(len(x))"
   ]
  }
 ],
 "metadata": {
  "kernelspec": {
   "display_name": "Python 3",
   "language": "python",
   "name": "python3"
  },
  "language_info": {
   "codemirror_mode": {
    "name": "ipython",
    "version": 3
   },
   "file_extension": ".py",
   "mimetype": "text/x-python",
   "name": "python",
   "nbconvert_exporter": "python",
   "pygments_lexer": "ipython3",
   "version": "3.11.4"
  },
  "orig_nbformat": 4
 },
 "nbformat": 4,
 "nbformat_minor": 2
}
